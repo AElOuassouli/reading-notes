{
 "cells": [
  {
   "cell_type": "markdown",
   "metadata": {},
   "source": [
    "#Meta-heuristics\n",
    "\n",
    "To do: \n",
    "* General definition. \n",
    "* Example of an optimization problem (chose one with pretty visualization) (maybe the travelling salesman problem)\n",
    "* Simulated Annealing"
   ]
  },
  {
   "cell_type": "code",
   "execution_count": null,
   "metadata": {},
   "outputs": [],
   "source": []
  }
 ],
 "metadata": {
  "language_info": {
   "name": "python"
  },
  "orig_nbformat": 4
 },
 "nbformat": 4,
 "nbformat_minor": 2
}
